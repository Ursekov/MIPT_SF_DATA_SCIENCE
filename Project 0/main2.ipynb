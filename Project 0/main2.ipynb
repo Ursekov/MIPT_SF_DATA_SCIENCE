{
 "cells": [
  {
   "cell_type": "code",
   "execution_count": 21,
   "metadata": {},
   "outputs": [],
   "source": [
    "import numpy as np"
   ]
  },
  {
   "cell_type": "code",
   "execution_count": 22,
   "metadata": {},
   "outputs": [],
   "source": [
    "def score_game(random_predict) -> int:\n",
    "    \"\"\"За какое количество попыток в среднем за 1000 подходов угадывает наш алгоритм\n",
    "\n",
    "    Args:\n",
    "        random_predict ([type]): функция угадывания\n",
    "\n",
    "    Returns:\n",
    "        int: среднее количество попыток\n",
    "    \"\"\"\n",
    "    count_ls = []\n",
    "    #np.random.seed(1)  # фиксируем сид для воспроизводимости\n",
    "    random_array = np.random.randint(1, 101, size=(1000))  # загадали список чисел\n",
    "\n",
    "    for number in random_array:\n",
    "        count_ls.append(random_predict(number))\n",
    "\n",
    "    score = int(np.mean(count_ls))\n",
    "    print(f\"Ваш алгоритм угадывает число в среднем за: {score} попытки\")"
   ]
  },
  {
   "cell_type": "code",
   "execution_count": 23,
   "metadata": {},
   "outputs": [],
   "source": [
    "def game_core_v3(number: int = 1) -> int:\n",
    "    \"\"\"\n",
    "    Args:\n",
    "        number (int, optional): Загаданное число. Defaults to 1.\n",
    "\n",
    "    Returns:\n",
    "        int: Число попыток\n",
    "    \"\"\"\n",
    "\n",
    "    low, high = 0, 100 # начальные значения поиска\n",
    "    count = 0\n",
    "    predict = (low + high) // 2 # предполагаемое число\n",
    "    while True:\n",
    "        count += 1\n",
    "        if predict < number: # в случае, если предполагаемое число меньше загаданного, \n",
    "            low = predict + 1 # нижняя граница смещается, убрав половину чисел из диапазона \n",
    "        elif predict > number: # в случае, если предполагаемое число больше загаданного,\n",
    "            high = predict # верхняя граница смещается, убрав половину чисел из диапазона \n",
    "        else:\n",
    "            break\n",
    "        predict = (low + high) // 2 # вычисляется новое предполагаемое число \n",
    "\n",
    "    return count"
   ]
  },
  {
   "cell_type": "code",
   "execution_count": 24,
   "metadata": {},
   "outputs": [
    {
     "name": "stdout",
     "output_type": "stream",
     "text": [
      "Run benchmarking for game_core_v3: Ваш алгоритм угадывает число в среднем за: 5 попытки\n"
     ]
    }
   ],
   "source": [
    "print('Run benchmarking for game_core_v3: ', end='')\n",
    "score_game(game_core_v3)"
   ]
  }
 ],
 "metadata": {
  "kernelspec": {
   "display_name": "guess",
   "language": "python",
   "name": "python3"
  },
  "language_info": {
   "codemirror_mode": {
    "name": "ipython",
    "version": 3
   },
   "file_extension": ".py",
   "mimetype": "text/x-python",
   "name": "python",
   "nbconvert_exporter": "python",
   "pygments_lexer": "ipython3",
   "version": "3.11.2"
  },
  "orig_nbformat": 4
 },
 "nbformat": 4,
 "nbformat_minor": 2
}
